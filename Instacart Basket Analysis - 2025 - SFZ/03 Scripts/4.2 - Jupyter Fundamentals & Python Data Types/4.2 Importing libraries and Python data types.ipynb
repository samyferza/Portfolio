{
 "cells": [
  {
   "cell_type": "markdown",
   "id": "85f055c7-81ad-4b9a-828c-d7fef17f4263",
   "metadata": {},
   "source": [
    "# 01. Importing libraries"
   ]
  },
  {
   "cell_type": "code",
   "execution_count": 1,
   "id": "b7468adb-a249-4bc8-89d8-dd2fed1fe3ee",
   "metadata": {},
   "outputs": [],
   "source": [
    "# Import libraries\n",
    "import pandas as pd\n",
    "import numpy as np\n",
    "import os"
   ]
  },
  {
   "cell_type": "markdown",
   "id": "4c885dac-3ea4-4de9-aa47-99896cb0fdb7",
   "metadata": {},
   "source": [
    "# 02. Data Types"
   ]
  },
  {
   "cell_type": "code",
   "execution_count": 73,
   "id": "4630c4aa-87dc-40b4-8de4-2093789f01e7",
   "metadata": {},
   "outputs": [],
   "source": [
    "#code 3 different ways of reaching a result of 100 by adding or subtracting numeric values. \n",
    "x = 150\n",
    "y = 50"
   ]
  },
  {
   "cell_type": "code",
   "execution_count": 51,
   "id": "9166b9c7-bcb3-4e89-a0a0-d019a567b75a",
   "metadata": {},
   "outputs": [
    {
     "data": {
      "text/plain": [
       "100"
      ]
     },
     "execution_count": 51,
     "metadata": {},
     "output_type": "execute_result"
    }
   ],
   "source": [
    "x - y"
   ]
  },
  {
   "cell_type": "code",
   "execution_count": 53,
   "id": "fc7d1d77-5647-4f99-8cd5-578e9940c727",
   "metadata": {},
   "outputs": [],
   "source": [
    "x = 25\n",
    "y = 51\n",
    "z = 24"
   ]
  },
  {
   "cell_type": "code",
   "execution_count": 55,
   "id": "b23fdc57-b32b-47d6-952e-f213f692174e",
   "metadata": {},
   "outputs": [
    {
     "data": {
      "text/plain": [
       "100"
      ]
     },
     "execution_count": 55,
     "metadata": {},
     "output_type": "execute_result"
    }
   ],
   "source": [
    "x + y + z"
   ]
  },
  {
   "cell_type": "code",
   "execution_count": 57,
   "id": "e3f680cd-06be-492a-9149-6584c8d864db",
   "metadata": {},
   "outputs": [],
   "source": [
    "x = 1000\n",
    "y = 899\n",
    "z = 1"
   ]
  },
  {
   "cell_type": "code",
   "execution_count": 65,
   "id": "9871061e-bdec-4ff2-8c93-bcacf8e9042b",
   "metadata": {
    "scrolled": true
   },
   "outputs": [
    {
     "data": {
      "text/plain": [
       "100.0"
      ]
     },
     "execution_count": 65,
     "metadata": {},
     "output_type": "execute_result"
    }
   ],
   "source": [
    "x - (y + z)"
   ]
  },
  {
   "cell_type": "code",
   "execution_count": 71,
   "id": "6becc55f-78d2-43b7-9870-6a6f230e11ff",
   "metadata": {},
   "outputs": [],
   "source": [
    "#code 2 floating-point variables and divide them by each other.\n",
    "a = 22.895\n",
    "b = 4.59"
   ]
  },
  {
   "cell_type": "code",
   "execution_count": 69,
   "id": "9dc20086-4aa2-40c0-ac38-a72420bf7c69",
   "metadata": {},
   "outputs": [
    {
     "data": {
      "text/plain": [
       "4.9880174291939"
      ]
     },
     "execution_count": 69,
     "metadata": {},
     "output_type": "execute_result"
    }
   ],
   "source": [
    "a / b"
   ]
  },
  {
   "cell_type": "code",
   "execution_count": 79,
   "id": "ffa3456c-0e62-4e99-babf-3d3b0bafe240",
   "metadata": {},
   "outputs": [],
   "source": [
    "#construct a short word made of separate strings.\n",
    "d = 'ana'\n",
    "e = 'conda'"
   ]
  },
  {
   "cell_type": "code",
   "execution_count": 77,
   "id": "ab0fc735-8d54-4632-89fa-ef4d73c5154e",
   "metadata": {},
   "outputs": [
    {
     "data": {
      "text/plain": [
       "'anaconda'"
      ]
     },
     "execution_count": 77,
     "metadata": {},
     "output_type": "execute_result"
    }
   ],
   "source": [
    "d + e"
   ]
  },
  {
   "cell_type": "code",
   "execution_count": 85,
   "id": "cff8967e-b52d-49a5-bbef-b08df1d21fc8",
   "metadata": {},
   "outputs": [],
   "source": [
    "#construct 2 short sentences made of separate strings.\n",
    "f = 'Python is a coding language used in serveral large companies. '\n",
    "g = 'It has a helper program called Anaconda.' "
   ]
  },
  {
   "cell_type": "code",
   "execution_count": 87,
   "id": "1065cdd4-a9d6-405f-895c-d9633268e8a6",
   "metadata": {},
   "outputs": [
    {
     "data": {
      "text/plain": [
       "'Python is a coding language used in serveral large companies. It has a helper program called Anaconda.'"
      ]
     },
     "execution_count": 87,
     "metadata": {},
     "output_type": "execute_result"
    }
   ],
   "source": [
    "f + g"
   ]
  },
  {
   "cell_type": "code",
   "execution_count": 89,
   "id": "1fc2f6eb-0236-404c-9467-0ce56820940f",
   "metadata": {},
   "outputs": [
    {
     "data": {
      "text/plain": [
       "'Python is a coding language used in serveral large companies. Python is a coding language used in serveral large companies. Python is a coding language used in serveral large companies. Python is a coding language used in serveral large companies. Python is a coding language used in serveral large companies. Python is a coding language used in serveral large companies. Python is a coding language used in serveral large companies. Python is a coding language used in serveral large companies. Python is a coding language used in serveral large companies. Python is a coding language used in serveral large companies. Python is a coding language used in serveral large companies. Python is a coding language used in serveral large companies. Python is a coding language used in serveral large companies. Python is a coding language used in serveral large companies. Python is a coding language used in serveral large companies. Python is a coding language used in serveral large companies. Python is a coding language used in serveral large companies. Python is a coding language used in serveral large companies. Python is a coding language used in serveral large companies. Python is a coding language used in serveral large companies. Python is a coding language used in serveral large companies. Python is a coding language used in serveral large companies. Python is a coding language used in serveral large companies. Python is a coding language used in serveral large companies. Python is a coding language used in serveral large companies. Python is a coding language used in serveral large companies. Python is a coding language used in serveral large companies. Python is a coding language used in serveral large companies. Python is a coding language used in serveral large companies. Python is a coding language used in serveral large companies. Python is a coding language used in serveral large companies. Python is a coding language used in serveral large companies. Python is a coding language used in serveral large companies. Python is a coding language used in serveral large companies. Python is a coding language used in serveral large companies. Python is a coding language used in serveral large companies. Python is a coding language used in serveral large companies. Python is a coding language used in serveral large companies. Python is a coding language used in serveral large companies. Python is a coding language used in serveral large companies. Python is a coding language used in serveral large companies. Python is a coding language used in serveral large companies. Python is a coding language used in serveral large companies. Python is a coding language used in serveral large companies. Python is a coding language used in serveral large companies. Python is a coding language used in serveral large companies. Python is a coding language used in serveral large companies. Python is a coding language used in serveral large companies. Python is a coding language used in serveral large companies. Python is a coding language used in serveral large companies. Python is a coding language used in serveral large companies. Python is a coding language used in serveral large companies. Python is a coding language used in serveral large companies. Python is a coding language used in serveral large companies. Python is a coding language used in serveral large companies. Python is a coding language used in serveral large companies. Python is a coding language used in serveral large companies. Python is a coding language used in serveral large companies. Python is a coding language used in serveral large companies. Python is a coding language used in serveral large companies. Python is a coding language used in serveral large companies. Python is a coding language used in serveral large companies. Python is a coding language used in serveral large companies. Python is a coding language used in serveral large companies. Python is a coding language used in serveral large companies. Python is a coding language used in serveral large companies. Python is a coding language used in serveral large companies. Python is a coding language used in serveral large companies. Python is a coding language used in serveral large companies. Python is a coding language used in serveral large companies. Python is a coding language used in serveral large companies. Python is a coding language used in serveral large companies. Python is a coding language used in serveral large companies. Python is a coding language used in serveral large companies. Python is a coding language used in serveral large companies. Python is a coding language used in serveral large companies. Python is a coding language used in serveral large companies. Python is a coding language used in serveral large companies. Python is a coding language used in serveral large companies. Python is a coding language used in serveral large companies. Python is a coding language used in serveral large companies. Python is a coding language used in serveral large companies. Python is a coding language used in serveral large companies. Python is a coding language used in serveral large companies. Python is a coding language used in serveral large companies. Python is a coding language used in serveral large companies. Python is a coding language used in serveral large companies. Python is a coding language used in serveral large companies. Python is a coding language used in serveral large companies. Python is a coding language used in serveral large companies. Python is a coding language used in serveral large companies. Python is a coding language used in serveral large companies. Python is a coding language used in serveral large companies. Python is a coding language used in serveral large companies. Python is a coding language used in serveral large companies. Python is a coding language used in serveral large companies. Python is a coding language used in serveral large companies. Python is a coding language used in serveral large companies. Python is a coding language used in serveral large companies. Python is a coding language used in serveral large companies. '"
      ]
     },
     "execution_count": 89,
     "metadata": {},
     "output_type": "execute_result"
    }
   ],
   "source": [
    "#Bonus Task: Write a command that makes a string appear 100 times. \n",
    "f * 100"
   ]
  },
  {
   "cell_type": "code",
   "execution_count": null,
   "id": "e3973dd4-3cae-40bf-a3ba-2dbfb93002f5",
   "metadata": {},
   "outputs": [],
   "source": []
  }
 ],
 "metadata": {
  "kernelspec": {
   "display_name": "Python 3 (ipykernel)",
   "language": "python",
   "name": "python3"
  },
  "language_info": {
   "codemirror_mode": {
    "name": "ipython",
    "version": 3
   },
   "file_extension": ".py",
   "mimetype": "text/x-python",
   "name": "python",
   "nbconvert_exporter": "python",
   "pygments_lexer": "ipython3",
   "version": "3.12.4"
  }
 },
 "nbformat": 4,
 "nbformat_minor": 5
}
